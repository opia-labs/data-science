{
 "cells": [
  {
   "cell_type": "markdown",
   "metadata": {},
   "source": [
    "    1.What is a correct syntax to output \"Hello World\" in Python?\n",
    "        A) p(\"Hello World\")\n",
    "        B) echo \"Hello World\"\n",
    "        C) excho(\"Hello World\");\n",
    "        D) print(\"Hello World\")"
   ]
  },
  {
   "cell_type": "markdown",
   "metadata": {},
   "source": [
    "    2. How do you insert COMMENTS in Python code?\n",
    "        A) #This is a comment\n",
    "        B) //This is a comment\n",
    "        C) /*This is a comment*/"
   ]
  },
  {
   "cell_type": "markdown",
   "metadata": {},
   "source": [
    "    3. How do you create a variable with the floating number 2.8?\n",
    "        A) X= 2.8\n",
    "        B) X = float(2.8)\n",
    "        C) Both"
   ]
  },
  {
   "cell_type": "markdown",
   "metadata": {},
   "source": [
    "    4. What is the correct way to create a function in Python?\n",
    "        A) create myFunction():\n",
    "        B) function myfunction():\n",
    "        C) def myFunction():"
   ]
  },
  {
   "cell_type": "markdown",
   "metadata": {},
   "source": [
    "    5. In Python, 'Hello', is the same as \"Hello\"\n",
    "        A) True\n",
    "        B) False"
   ]
  },
  {
   "cell_type": "markdown",
   "metadata": {},
   "source": [
    "    6. Which of these collections defines a LIST?\n",
    "        A) {\"name\": \"apple\", \"color\": \"green\"}\n",
    "        B) [\"apple\", \"banana\", \"cherry\"]\n",
    "        C) {\"apple\", \"banana\", \"cherry\"}\n",
    "        D) (\"apple\", \"banana\", \"cherry\")"
   ]
  },
  {
   "cell_type": "markdown",
   "metadata": {},
   "source": [
    "    7. Which of these collections defines a DICTIONARY?\n",
    "        A) {\"name\": \"apple\", \"color\": \"green\"}\n",
    "        B) [\"apple\", \"banana\", \"cherry\"]\n",
    "        C) (\"apple\", \"banana\", \"cherry\")\n",
    "        D) {\"apple\", \"banana\", \"cherry\"}"
   ]
  },
  {
   "cell_type": "markdown",
   "metadata": {},
   "source": [
    "    8. Which collection is ordered, changeable, and allows duplicate members?\n",
    "        A) TUPLE\n",
    "        B) SET\n",
    "        C) LIST\n",
    "        D) DICTIONARY"
   ]
  },
  {
   "cell_type": "markdown",
   "metadata": {},
   "source": [
    "    9. Which collection does not allow duplicate members?\n",
    "        A) SET\n",
    "        B) LIST\n",
    "        C) TUPPLE"
   ]
  },
  {
   "cell_type": "markdown",
   "metadata": {},
   "source": [
    "    10. Which statement is used to stop a loop?\n",
    "        A) exit\n",
    "        b) stop\n",
    "        C) return\n",
    "        D) break"
   ]
  },
  {
   "cell_type": "code",
   "execution_count": null,
   "metadata": {},
   "outputs": [],
   "source": []
  }
 ],
 "metadata": {
  "kernelspec": {
   "display_name": "Python 3",
   "language": "python",
   "name": "python3"
  },
  "language_info": {
   "codemirror_mode": {
    "name": "ipython",
    "version": 3
   },
   "file_extension": ".py",
   "mimetype": "text/x-python",
   "name": "python",
   "nbconvert_exporter": "python",
   "pygments_lexer": "ipython3",
   "version": "3.6.10"
  }
 },
 "nbformat": 4,
 "nbformat_minor": 4
}
