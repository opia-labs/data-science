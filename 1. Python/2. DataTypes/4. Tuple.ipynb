{
 "cells": [
  {
   "cell_type": "markdown",
   "metadata": {},
   "source": [
    "### Python Tuple\n",
    "A tuple in Python is similar to a list. The difference between the two is that we cannot change the elements of a tuple once it is assigned whereas we can change the elements of a list.\n",
    "\n",
    "#### Creating a Tuple\n",
    "A tuple is created by placing all the items (elements) inside parentheses `()`, separated by commas. The parentheses are optional, however, it is a good practice to use them.\n",
    "\n",
    "A tuple can have any number of items and they may be of different types (integer, float, list, string, etc.).\n"
   ]
  },
  {
   "cell_type": "code",
   "execution_count": 1,
   "metadata": {},
   "outputs": [
    {
     "name": "stdout",
     "output_type": "stream",
     "text": [
      "()\n",
      "(1, 2, 3)\n",
      "(1, 'Hello', 3.4)\n",
      "('mouse', [8, 4, 6], (1, 2, 3))\n"
     ]
    }
   ],
   "source": [
    "# Different types of tuples\n",
    "\n",
    "# Empty tuple\n",
    "my_tuple = ()\n",
    "print(my_tuple)\n",
    "\n",
    "# Tuple having integers\n",
    "my_tuple = (1, 2, 3)\n",
    "print(my_tuple)\n",
    "\n",
    "# tuple with mixed datatypes\n",
    "my_tuple = (1, \"Hello\", 3.4)\n",
    "print(my_tuple)\n",
    "\n",
    "# nested tuple\n",
    "my_tuple = (\"mouse\", [8, 4, 6], (1, 2, 3))\n",
    "print(my_tuple)"
   ]
  },
  {
   "cell_type": "markdown",
   "metadata": {},
   "source": [
    "### Access Tuple Elements\n",
    "There are various ways in which we can access the elements of a tuple.\n",
    "\n",
    "##### Indexing\n",
    "We can use the index operator `[]` to access an item in a tuple, where the index starts from 0."
   ]
  },
  {
   "cell_type": "code",
   "execution_count": 2,
   "metadata": {},
   "outputs": [
    {
     "name": "stdout",
     "output_type": "stream",
     "text": [
      "p\n",
      "t\n",
      "s\n",
      "4\n"
     ]
    }
   ],
   "source": [
    "# Accessing tuple elements using indexing\n",
    "my_tuple = ('p','e','r','m','i','t')\n",
    "\n",
    "print(my_tuple[0])   # 'p' \n",
    "print(my_tuple[5])   # 't'\n",
    "\n",
    "# IndexError: list index out of range\n",
    "# print(my_tuple[6])\n",
    "\n",
    "# Index must be an integer\n",
    "# TypeError: list indices must be integers, not float\n",
    "# my_tuple[2.0]\n",
    "\n",
    "# nested tuple\n",
    "n_tuple = (\"mouse\", [8, 4, 6], (1, 2, 3))\n",
    "\n",
    "# nested index\n",
    "print(n_tuple[0][3])       # 's'\n",
    "print(n_tuple[1][1])       # 4"
   ]
  },
  {
   "cell_type": "markdown",
   "metadata": {},
   "source": [
    "#####  Negative Indexing\n",
    "Python allows negative indexing for its sequences.\n",
    "\n",
    "The index of -1 refers to the last item, -2 to the second last item and so on."
   ]
  },
  {
   "cell_type": "code",
   "execution_count": 3,
   "metadata": {},
   "outputs": [
    {
     "name": "stdout",
     "output_type": "stream",
     "text": [
      "t\n",
      "p\n"
     ]
    }
   ],
   "source": [
    "# Negative indexing for accessing tuple elements\n",
    "my_tuple = ('p', 'e', 'r', 'm', 'i', 't')\n",
    "\n",
    "# Output: 't'\n",
    "print(my_tuple[-1])\n",
    "\n",
    "# Output: 'p'\n",
    "print(my_tuple[-6])"
   ]
  },
  {
   "cell_type": "markdown",
   "metadata": {},
   "source": [
    "##### Slicing\n",
    "We can access a range of items in a tuple by using the slicing operator colon `:`."
   ]
  },
  {
   "cell_type": "code",
   "execution_count": 6,
   "metadata": {},
   "outputs": [
    {
     "name": "stdout",
     "output_type": "stream",
     "text": [
      "('r', 'o', 'b')\n",
      "('p', 'r')\n",
      "('e', 'm')\n",
      "('p', 'r', 'o', 'b', 'l', 'e', 'm')\n"
     ]
    }
   ],
   "source": [
    "# Accessing tuple elements using slicing\n",
    "my_tuple = ('p','r','o','b','l','e','m')\n",
    "\n",
    "# elements 2nd to 4th\n",
    "# Output: ('r', 'o', 'g')\n",
    "print(my_tuple[1:4])\n",
    "\n",
    "# elements beginning to 2nd\n",
    "# Output: ('p', 'r')\n",
    "print(my_tuple[:-5])\n",
    "\n",
    "# elements 6th to end\n",
    "# Output: ('e', 'm')\n",
    "print(my_tuple[5:])\n",
    "\n",
    "# elements beginning to end\n",
    "# Output: ('p', 'r', 'o', 'b', 'l', 'e', 'm')\n",
    "print(my_tuple[:])"
   ]
  },
  {
   "cell_type": "markdown",
   "metadata": {},
   "source": [
    "#### Add Items\n",
    "Once a tuple is created, you cannot add items to it. Tuples are unchangeable"
   ]
  },
  {
   "cell_type": "code",
   "execution_count": 5,
   "metadata": {},
   "outputs": [
    {
     "ename": "TypeError",
     "evalue": "'tuple' object does not support item assignment",
     "output_type": "error",
     "traceback": [
      "\u001b[1;31m---------------------------------------------------------------------------\u001b[0m",
      "\u001b[1;31mTypeError\u001b[0m                                 Traceback (most recent call last)",
      "\u001b[1;32m<ipython-input-5-10c310469628>\u001b[0m in \u001b[0;36m<module>\u001b[1;34m\u001b[0m\n\u001b[0;32m      1\u001b[0m \u001b[0mmy_tuple\u001b[0m \u001b[1;33m=\u001b[0m \u001b[1;33m(\u001b[0m\u001b[1;36m4\u001b[0m\u001b[1;33m,\u001b[0m\u001b[1;36m2\u001b[0m\u001b[1;33m,\u001b[0m\u001b[1;36m3\u001b[0m\u001b[1;33m)\u001b[0m\u001b[1;33m\u001b[0m\u001b[1;33m\u001b[0m\u001b[0m\n\u001b[1;32m----> 2\u001b[1;33m \u001b[0mthistuple\u001b[0m\u001b[1;33m[\u001b[0m\u001b[1;36m3\u001b[0m\u001b[1;33m]\u001b[0m \u001b[1;33m=\u001b[0m \u001b[1;36m5\u001b[0m \u001b[1;31m# This will raise an error\u001b[0m\u001b[1;33m\u001b[0m\u001b[1;33m\u001b[0m\u001b[0m\n\u001b[0m\u001b[0;32m      3\u001b[0m \u001b[0mprint\u001b[0m\u001b[1;33m(\u001b[0m\u001b[0mthistuple\u001b[0m\u001b[1;33m)\u001b[0m\u001b[1;33m\u001b[0m\u001b[1;33m\u001b[0m\u001b[0m\n",
      "\u001b[1;31mTypeError\u001b[0m: 'tuple' object does not support item assignment"
     ]
    }
   ],
   "source": [
    "my_tuple = (4,2,3)\n",
    "thistuple[3] = 5 # This will raise an error\n",
    "print(thistuple)"
   ]
  },
  {
   "cell_type": "markdown",
   "metadata": {},
   "source": [
    "#### Changing a Tuple\n",
    "Unlike lists, tuples are immutable.\n",
    "\n",
    "This means that elements of a tuple cannot be changed once they have been assigned. But, if the element is itself a mutable data type like list, its nested items can be changed.\n",
    "\n",
    "We can also assign a tuple to different values (reassignment)."
   ]
  },
  {
   "cell_type": "code",
   "execution_count": 1,
   "metadata": {},
   "outputs": [
    {
     "name": "stdout",
     "output_type": "stream",
     "text": [
      "(4, 2, 3, [9, 5])\n",
      "('p', 'r', 'o', 'g', 'r', 'a', 'm', 'i', 'z')\n"
     ]
    }
   ],
   "source": [
    "# Changing tuple values\n",
    "my_tuple = (4, 2, 3, [6, 5])\n",
    "\n",
    "\n",
    "# TypeError: 'tuple' object does not support item assignment\n",
    "# my_tuple[1] = 9\n",
    "\n",
    "# However, item of mutable element can be changed\n",
    "my_tuple[3][0] = 9    # Output: (4, 2, 3, [9, 5])\n",
    "print(my_tuple)\n",
    "\n",
    "# Tuples can be reassigned\n",
    "my_tuple = ('p', 'r', 'o', 'g', 'r', 'a', 'm', 'i', 'z')\n",
    "\n",
    "# Output: ('p', 'r', 'o', 'g', 'r', 'a', 'm', 'i', 'z')\n",
    "print(my_tuple)"
   ]
  },
  {
   "cell_type": "markdown",
   "metadata": {},
   "source": [
    "We can use `+` operator to combine two tuples. This is called concatenation.\n",
    "\n",
    "We can also **repeat** the elements in a tuple for a given number of times using the `*` operator.\n",
    "\n",
    "Both `+` and `*` operations result in a new tuple."
   ]
  },
  {
   "cell_type": "code",
   "execution_count": 2,
   "metadata": {},
   "outputs": [
    {
     "name": "stdout",
     "output_type": "stream",
     "text": [
      "(1, 2, 3, 4, 5, 6)\n",
      "('Repeat', 'Repeat', 'Repeat')\n"
     ]
    }
   ],
   "source": [
    "# Concatenation\n",
    "# Output: (1, 2, 3, 4, 5, 6)\n",
    "print((1, 2, 3) + (4, 5, 6))\n",
    "\n",
    "# Repeat\n",
    "# Output: ('Repeat', 'Repeat', 'Repeat')\n",
    "print((\"Repeat\",) * 3)"
   ]
  },
  {
   "cell_type": "markdown",
   "metadata": {},
   "source": [
    "#### Deleting a Tuple\n",
    "As discussed above, we cannot change the elements in a tuple. It means that we cannot delete or remove items from a tuple.\n",
    "\n",
    "Deleting a tuple entirely, however, is possible using the keyword `del`."
   ]
  },
  {
   "cell_type": "code",
   "execution_count": 6,
   "metadata": {},
   "outputs": [
    {
     "ename": "NameError",
     "evalue": "name 'my_tuple' is not defined",
     "output_type": "error",
     "traceback": [
      "\u001b[1;31m---------------------------------------------------------------------------\u001b[0m",
      "\u001b[1;31mNameError\u001b[0m                                 Traceback (most recent call last)",
      "\u001b[1;32m<ipython-input-6-6d502a6648b0>\u001b[0m in \u001b[0;36m<module>\u001b[1;34m\u001b[0m\n\u001b[0;32m     10\u001b[0m \u001b[1;33m\u001b[0m\u001b[0m\n\u001b[0;32m     11\u001b[0m \u001b[1;31m# NameError: name 'my_tuple' is not defined\u001b[0m\u001b[1;33m\u001b[0m\u001b[1;33m\u001b[0m\u001b[1;33m\u001b[0m\u001b[0m\n\u001b[1;32m---> 12\u001b[1;33m \u001b[0mprint\u001b[0m\u001b[1;33m(\u001b[0m\u001b[0mmy_tuple\u001b[0m\u001b[1;33m)\u001b[0m\u001b[1;33m\u001b[0m\u001b[1;33m\u001b[0m\u001b[0m\n\u001b[0m",
      "\u001b[1;31mNameError\u001b[0m: name 'my_tuple' is not defined"
     ]
    }
   ],
   "source": [
    "# Deleting tuples\n",
    "my_tuple = ('p', 'r', 'o', 'g', 'r', 'a', 'm', 'i', 'z')\n",
    "\n",
    "# can't delete items\n",
    "# TypeError: 'tuple' object doesn't support item deletion\n",
    "# del my_tuple[3]\n",
    "\n",
    "# Can delete an entire tuple\n",
    "del my_tuple\n",
    "\n",
    "# NameError: name 'my_tuple' is not defined\n",
    "print(my_tuple)"
   ]
  },
  {
   "cell_type": "markdown",
   "metadata": {},
   "source": [
    "### Exercise\n",
    "    1. Print the last item of the tuple: thistuple = (\"apple\", \"banana\", \"cherry\")\n",
    "    2. Return the third,fourth,and fifth item: thistuple = (\"apple\", \"banana\", \"cherry\", \"orange\", \"kiwi\", \"melon\", \"mango\")\n",
    "    3. Join two tuples: tuple1 = (\"a\", \"b\" , \"c\"), tuple2 = (1, 2, 3)"
   ]
  },
  {
   "cell_type": "code",
   "execution_count": null,
   "metadata": {},
   "outputs": [],
   "source": []
  }
 ],
 "metadata": {
  "kernelspec": {
   "display_name": "Python 3",
   "language": "python",
   "name": "python3"
  },
  "language_info": {
   "codemirror_mode": {
    "name": "ipython",
    "version": 3
   },
   "file_extension": ".py",
   "mimetype": "text/x-python",
   "name": "python",
   "nbconvert_exporter": "python",
   "pygments_lexer": "ipython3",
   "version": "3.6.10"
  }
 },
 "nbformat": 4,
 "nbformat_minor": 4
}
