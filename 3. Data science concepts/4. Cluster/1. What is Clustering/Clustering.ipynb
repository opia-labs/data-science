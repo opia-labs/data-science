{
 "cells": [
  {
   "attachments": {},
   "cell_type": "markdown",
   "metadata": {},
   "source": [
    "### Clustering\n",
    "\n",
    "#### What is Clustering\n",
    "Clustering is the task of dividing the population or data points into a number of groups such that data points in the same groups are more similar to other data points in the same group and dissimilar to the data points in other groups. It is basically a collection of objects on the basis of similarity and dissimilarity between them.\n",
    "\n",
    "Clustering algorithms are a part of unsupervised machine learning algorithms.\n",
    "Why unsupervised ? Because, the target variable is not present. The model is trained based on given input variables which attempt to discover intrinsic groups (or clusters). In simple words, the aim is to segregate groups with similar traits and assign them into clusters."
   ]
  },
  {
   "attachments": {},
   "cell_type": "markdown",
   "metadata": {},
   "source": [
    "#### Why Clustering:\n",
    "Clustering is very much important as it determines the intrinsic grouping among the unlabeled data present. There are no criteria for a good clustering. It depends on the user, what is the criteria they may use which satisfy their need. \n",
    "For instance, we could be interested in finding representatives for homogeneous groups (data reduction), in finding “natural clusters” and describe their unknown properties (“natural” data types), in finding useful and suitable groupings (“useful” data classes) or in finding unusual data objects (outlier detection). \n",
    "This algorithm must make some assumptions which constitute the similarity of points and each assumption make different and equally valid clusters.\n",
    "\n",
    "Organizing data into clusters helps in identifying the underlying structure in the data and finds applications across industries. For example, clustering could be used to classify disease in the field of medical science, and can also be used in customer classification in marketing research. \n",
    "\n",
    "In some applications, data partitioning is the final goal, on the other hand, clustering is also a prerequisite to prepare for other artificial intelligence or machine learning problems. It is an efficient technique for knowledge discovery in data in the form of recurring patterns, underlying rules, and more. \t\t\t\t\t\t\t\t\t"
   ]
  },
  {
   "cell_type": "markdown",
   "metadata": {},
   "source": [
    "#### Types of Clustering:\n",
    "    1.\tSoft Clustering: In this technique, the probability or likelihood of an observation being partitioned into a cluster is calculated.\n",
    "    2.\tHard Clustering: In hard clustering, an observation is partitioned into exactly one cluster (no probability is calculated).\n",
    "    Clustering Algorithms\n",
    "    1.\tK means clustering\n",
    "    2.\tHierarchical Clustering"
   ]
  },
  {
   "cell_type": "markdown",
   "metadata": {},
   "source": [
    "**K means clustering** :\n",
    "\n",
    "    ○\tK-means clustering is an algorithm to classify or to group our objects based on attributes/features into K number of group. K is positive integer number.\n",
    "    ○\tThe grouping is done by minimizing the sum of squares of distances between data and the corresponding cluster centroid. Thus the purpose of K-mean clustering is to classify the data."
   ]
  },
  {
   "cell_type": "markdown",
   "metadata": {},
   "source": [
    "**Hierarchical clustering** :\n",
    "\n",
    "    ○\tHierarchical clustering, as the name suggests is an algorithm that builds hierarchy of clusters. This algorithm starts with all the data points assigned to a cluster of their own. Then two nearest clusters are merged into the same cluster. In the end, this algorithm terminates when there is only a single cluster left.\n",
    "    ○\tThe results of hierarchical clustering can be shown using dendrogram. The dendrogram can be interpreted as:\n"
   ]
  },
  {
   "cell_type": "code",
   "execution_count": null,
   "metadata": {},
   "outputs": [],
   "source": []
  }
 ],
 "metadata": {
  "kernelspec": {
   "display_name": "Python 3",
   "language": "python",
   "name": "python3"
  },
  "language_info": {
   "codemirror_mode": {
    "name": "ipython",
    "version": 3
   },
   "file_extension": ".py",
   "mimetype": "text/x-python",
   "name": "python",
   "nbconvert_exporter": "python",
   "pygments_lexer": "ipython3",
   "version": "3.6.10"
  }
 },
 "nbformat": 4,
 "nbformat_minor": 4
}
