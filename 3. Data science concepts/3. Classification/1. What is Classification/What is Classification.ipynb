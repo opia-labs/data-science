{
 "cells": [
  {
   "cell_type": "markdown",
   "metadata": {},
   "source": [
    "### What is Classification\n",
    "Classification is a type of supervised learning. It specifies the class to which data elements belong to and is best used when the output has finite and discrete values. In Classification, a program learns from the given dataset or observations and then classifies new observation into a number of classes or groups. Such as, Yes or No, 0 or 1, Spam or Not Spam, cat or dog, etc. Classes can be called as targets/labels or categories.\n",
    "\n",
    "The main goal of the Classification algorithm is to identify the category of a given dataset, and these algorithms are mainly used to predict the output for the categorical data.\n",
    "\n",
    "The best example of an ML classification algorithm is **Email Spam Detector**.\n"
   ]
  },
  {
   "cell_type": "markdown",
   "metadata": {},
   "source": [
    "#### Types of Classification\n",
    "There are 2 types of Classification: \n",
    "\n",
    "    Binary Model\n",
    "    Multi-Class\n",
    "\n",
    "Binary Model: Binary model is used for predicting a binary outcome (Pass/Fail, 1/0, True/False)\n",
    "\n",
    "Multi-Class: Multi-Class model is used for predicting one of many possible outcomes (classification of mood/feelings in songs/music)"
   ]
  },
  {
   "cell_type": "markdown",
   "metadata": {},
   "source": [
    "### Types of Classification Algorithms:\n",
    "\n",
    "Let's have a quick look into the types of Classification Algorithm below.\n",
    "\n",
    "    Linear Models:\n",
    "    Logistic Regression\n",
    "    Support Vector Machines\n",
    "    Nonlinear models\n",
    "    K-nearest Neighbors (KNN)\n",
    "    Kernel Support Vector Machines (SVM)\n",
    "    Naïve Bayes\n",
    "    Decision Tree Classification\n",
    "    Random Forest Classification\n"
   ]
  },
  {
   "cell_type": "markdown",
   "metadata": {},
   "source": [
    "#### Evaluating performance:\n",
    "Common techniques used for evaluating performance:\n",
    "\n",
    "    Visually observe using Plots\n",
    "    Confusion Matrix\n",
    "    Evaluates with metrics like Recall, Precision, Accuracy, F1-Score, AUC Score\n"
   ]
  },
  {
   "cell_type": "code",
   "execution_count": null,
   "metadata": {},
   "outputs": [],
   "source": []
  }
 ],
 "metadata": {
  "kernelspec": {
   "display_name": "Python 3",
   "language": "python",
   "name": "python3"
  },
  "language_info": {
   "codemirror_mode": {
    "name": "ipython",
    "version": 3
   },
   "file_extension": ".py",
   "mimetype": "text/x-python",
   "name": "python",
   "nbconvert_exporter": "python",
   "pygments_lexer": "ipython3",
   "version": "3.6.10"
  }
 },
 "nbformat": 4,
 "nbformat_minor": 4
}
