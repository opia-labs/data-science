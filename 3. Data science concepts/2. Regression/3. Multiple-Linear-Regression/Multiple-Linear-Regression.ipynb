{
 "cells": [
  {
   "cell_type": "code",
   "execution_count": 1,
   "metadata": {},
   "outputs": [],
   "source": [
    "# Importing the libraries\n",
    "import numpy as np\n",
    "import matplotlib.pyplot as plt\n",
    "import pandas as pd"
   ]
  },
  {
   "cell_type": "markdown",
   "metadata": {},
   "source": [
    "### Dataset"
   ]
  },
  {
   "cell_type": "code",
   "execution_count": 40,
   "metadata": {},
   "outputs": [],
   "source": [
    "# Importing the datasets\n",
    "\n",
    "dataset = pd.read_csv('50_Startups.csv')"
   ]
  },
  {
   "cell_type": "code",
   "execution_count": 41,
   "metadata": {},
   "outputs": [
    {
     "data": {
      "text/html": [
       "<div>\n",
       "<style scoped>\n",
       "    .dataframe tbody tr th:only-of-type {\n",
       "        vertical-align: middle;\n",
       "    }\n",
       "\n",
       "    .dataframe tbody tr th {\n",
       "        vertical-align: top;\n",
       "    }\n",
       "\n",
       "    .dataframe thead th {\n",
       "        text-align: right;\n",
       "    }\n",
       "</style>\n",
       "<table border=\"1\" class=\"dataframe\">\n",
       "  <thead>\n",
       "    <tr style=\"text-align: right;\">\n",
       "      <th></th>\n",
       "      <th>R&amp;D Spend</th>\n",
       "      <th>Administration</th>\n",
       "      <th>Marketing Spend</th>\n",
       "      <th>State</th>\n",
       "      <th>Profit</th>\n",
       "    </tr>\n",
       "  </thead>\n",
       "  <tbody>\n",
       "    <tr>\n",
       "      <th>0</th>\n",
       "      <td>165349.20</td>\n",
       "      <td>136897.80</td>\n",
       "      <td>471784.10</td>\n",
       "      <td>New York</td>\n",
       "      <td>192261.83</td>\n",
       "    </tr>\n",
       "    <tr>\n",
       "      <th>1</th>\n",
       "      <td>162597.70</td>\n",
       "      <td>151377.59</td>\n",
       "      <td>443898.53</td>\n",
       "      <td>California</td>\n",
       "      <td>191792.06</td>\n",
       "    </tr>\n",
       "    <tr>\n",
       "      <th>2</th>\n",
       "      <td>153441.51</td>\n",
       "      <td>101145.55</td>\n",
       "      <td>407934.54</td>\n",
       "      <td>Florida</td>\n",
       "      <td>191050.39</td>\n",
       "    </tr>\n",
       "    <tr>\n",
       "      <th>3</th>\n",
       "      <td>144372.41</td>\n",
       "      <td>118671.85</td>\n",
       "      <td>383199.62</td>\n",
       "      <td>New York</td>\n",
       "      <td>182901.99</td>\n",
       "    </tr>\n",
       "    <tr>\n",
       "      <th>4</th>\n",
       "      <td>142107.34</td>\n",
       "      <td>91391.77</td>\n",
       "      <td>366168.42</td>\n",
       "      <td>Florida</td>\n",
       "      <td>166187.94</td>\n",
       "    </tr>\n",
       "  </tbody>\n",
       "</table>\n",
       "</div>"
      ],
      "text/plain": [
       "   R&D Spend  Administration  Marketing Spend       State     Profit\n",
       "0  165349.20       136897.80        471784.10    New York  192261.83\n",
       "1  162597.70       151377.59        443898.53  California  191792.06\n",
       "2  153441.51       101145.55        407934.54     Florida  191050.39\n",
       "3  144372.41       118671.85        383199.62    New York  182901.99\n",
       "4  142107.34        91391.77        366168.42     Florida  166187.94"
      ]
     },
     "execution_count": 41,
     "metadata": {},
     "output_type": "execute_result"
    }
   ],
   "source": [
    "dataset.head()"
   ]
  },
  {
   "cell_type": "code",
   "execution_count": 42,
   "metadata": {},
   "outputs": [],
   "source": [
    "dataset['State'] = pd.get_dummies(dataset['State'],drop_first=True)"
   ]
  },
  {
   "cell_type": "code",
   "execution_count": 56,
   "metadata": {},
   "outputs": [
    {
     "data": {
      "text/html": [
       "<div>\n",
       "<style scoped>\n",
       "    .dataframe tbody tr th:only-of-type {\n",
       "        vertical-align: middle;\n",
       "    }\n",
       "\n",
       "    .dataframe tbody tr th {\n",
       "        vertical-align: top;\n",
       "    }\n",
       "\n",
       "    .dataframe thead th {\n",
       "        text-align: right;\n",
       "    }\n",
       "</style>\n",
       "<table border=\"1\" class=\"dataframe\">\n",
       "  <thead>\n",
       "    <tr style=\"text-align: right;\">\n",
       "      <th></th>\n",
       "      <th>R&amp;D Spend</th>\n",
       "      <th>Administration</th>\n",
       "      <th>Marketing Spend</th>\n",
       "      <th>State</th>\n",
       "      <th>Profit</th>\n",
       "    </tr>\n",
       "  </thead>\n",
       "  <tbody>\n",
       "    <tr>\n",
       "      <th>0</th>\n",
       "      <td>165349.20</td>\n",
       "      <td>136897.80</td>\n",
       "      <td>471784.10</td>\n",
       "      <td>0</td>\n",
       "      <td>192261.83</td>\n",
       "    </tr>\n",
       "    <tr>\n",
       "      <th>1</th>\n",
       "      <td>162597.70</td>\n",
       "      <td>151377.59</td>\n",
       "      <td>443898.53</td>\n",
       "      <td>1</td>\n",
       "      <td>191792.06</td>\n",
       "    </tr>\n",
       "    <tr>\n",
       "      <th>2</th>\n",
       "      <td>153441.51</td>\n",
       "      <td>101145.55</td>\n",
       "      <td>407934.54</td>\n",
       "      <td>0</td>\n",
       "      <td>191050.39</td>\n",
       "    </tr>\n",
       "    <tr>\n",
       "      <th>3</th>\n",
       "      <td>144372.41</td>\n",
       "      <td>118671.85</td>\n",
       "      <td>383199.62</td>\n",
       "      <td>0</td>\n",
       "      <td>182901.99</td>\n",
       "    </tr>\n",
       "    <tr>\n",
       "      <th>4</th>\n",
       "      <td>142107.34</td>\n",
       "      <td>91391.77</td>\n",
       "      <td>366168.42</td>\n",
       "      <td>0</td>\n",
       "      <td>166187.94</td>\n",
       "    </tr>\n",
       "  </tbody>\n",
       "</table>\n",
       "</div>"
      ],
      "text/plain": [
       "   R&D Spend  Administration  Marketing Spend  State     Profit\n",
       "0  165349.20       136897.80        471784.10      0  192261.83\n",
       "1  162597.70       151377.59        443898.53      1  191792.06\n",
       "2  153441.51       101145.55        407934.54      0  191050.39\n",
       "3  144372.41       118671.85        383199.62      0  182901.99\n",
       "4  142107.34        91391.77        366168.42      0  166187.94"
      ]
     },
     "execution_count": 56,
     "metadata": {},
     "output_type": "execute_result"
    }
   ],
   "source": [
    "dataset.head()"
   ]
  },
  {
   "cell_type": "markdown",
   "metadata": {},
   "source": [
    "### Independent and dependent variables"
   ]
  },
  {
   "cell_type": "code",
   "execution_count": 44,
   "metadata": {},
   "outputs": [],
   "source": [
    "X = dataset.iloc[:, :-1].values\n",
    "y = dataset.iloc[:, 4].values"
   ]
  },
  {
   "cell_type": "code",
   "execution_count": 26,
   "metadata": {},
   "outputs": [
    {
     "data": {
      "text/plain": [
       "array([['0.0', '0.0', '1.0', '165349.2', '136897.8', '471784.1'],\n",
       "       ['1.0', '0.0', '0.0', '162597.7', '151377.59', '443898.53'],\n",
       "       ['0.0', '1.0', '0.0', '153441.51', '101145.55', '407934.54'],\n",
       "       ['0.0', '0.0', '1.0', '144372.41', '118671.85', '383199.62'],\n",
       "       ['0.0', '1.0', '0.0', '142107.34', '91391.77', '366168.42'],\n",
       "       ['0.0', '0.0', '1.0', '131876.9', '99814.71', '362861.36'],\n",
       "       ['1.0', '0.0', '0.0', '134615.46', '147198.87', '127716.82'],\n",
       "       ['0.0', '1.0', '0.0', '130298.13', '145530.06', '323876.68'],\n",
       "       ['0.0', '0.0', '1.0', '120542.52', '148718.95', '311613.29'],\n",
       "       ['1.0', '0.0', '0.0', '123334.88', '108679.17', '304981.62'],\n",
       "       ['0.0', '1.0', '0.0', '101913.08', '110594.11', '229160.95'],\n",
       "       ['1.0', '0.0', '0.0', '100671.96', '91790.61', '249744.55'],\n",
       "       ['0.0', '1.0', '0.0', '93863.75', '127320.38', '249839.44'],\n",
       "       ['1.0', '0.0', '0.0', '91992.39', '135495.07', '252664.93'],\n",
       "       ['0.0', '1.0', '0.0', '119943.24', '156547.42', '256512.92'],\n",
       "       ['0.0', '0.0', '1.0', '114523.61', '122616.84', '261776.23'],\n",
       "       ['1.0', '0.0', '0.0', '78013.11', '121597.55', '264346.06'],\n",
       "       ['0.0', '0.0', '1.0', '94657.16', '145077.58', '282574.31'],\n",
       "       ['0.0', '1.0', '0.0', '91749.16', '114175.79', '294919.57'],\n",
       "       ['0.0', '0.0', '1.0', '86419.7', '153514.11', '0.0'],\n",
       "       ['1.0', '0.0', '0.0', '76253.86', '113867.3', '298664.47'],\n",
       "       ['0.0', '0.0', '1.0', '78389.47', '153773.43', '299737.29'],\n",
       "       ['0.0', '1.0', '0.0', '73994.56', '122782.75', '303319.26'],\n",
       "       ['0.0', '1.0', '0.0', '67532.53', '105751.03', '304768.73'],\n",
       "       ['0.0', '0.0', '1.0', '77044.01', '99281.34', '140574.81'],\n",
       "       ['1.0', '0.0', '0.0', '64664.71', '139553.16', '137962.62'],\n",
       "       ['0.0', '1.0', '0.0', '75328.87', '144135.98', '134050.07'],\n",
       "       ['0.0', '0.0', '1.0', '72107.6', '127864.55', '353183.81'],\n",
       "       ['0.0', '1.0', '0.0', '66051.52', '182645.56', '118148.2'],\n",
       "       ['0.0', '0.0', '1.0', '65605.48', '153032.06', '107138.38'],\n",
       "       ['0.0', '1.0', '0.0', '61994.48', '115641.28', '91131.24'],\n",
       "       ['0.0', '0.0', '1.0', '61136.38', '152701.92', '88218.23'],\n",
       "       ['1.0', '0.0', '0.0', '63408.86', '129219.61', '46085.25'],\n",
       "       ['0.0', '1.0', '0.0', '55493.95', '103057.49', '214634.81'],\n",
       "       ['1.0', '0.0', '0.0', '46426.07', '157693.92', '210797.67'],\n",
       "       ['0.0', '0.0', '1.0', '46014.02', '85047.44', '205517.64'],\n",
       "       ['0.0', '1.0', '0.0', '28663.76', '127056.21', '201126.82'],\n",
       "       ['1.0', '0.0', '0.0', '44069.95', '51283.14', '197029.42'],\n",
       "       ['0.0', '0.0', '1.0', '20229.59', '65947.93', '185265.1'],\n",
       "       ['1.0', '0.0', '0.0', '38558.51', '82982.09', '174999.3'],\n",
       "       ['1.0', '0.0', '0.0', '28754.33', '118546.05', '172795.67'],\n",
       "       ['0.0', '1.0', '0.0', '27892.92', '84710.77', '164470.71'],\n",
       "       ['1.0', '0.0', '0.0', '23640.93', '96189.63', '148001.11'],\n",
       "       ['0.0', '0.0', '1.0', '15505.73', '127382.3', '35534.17'],\n",
       "       ['1.0', '0.0', '0.0', '22177.74', '154806.14', '28334.72'],\n",
       "       ['0.0', '0.0', '1.0', '1000.23', '124153.04', '1903.93'],\n",
       "       ['0.0', '1.0', '0.0', '1315.46', '115816.21', '297114.46'],\n",
       "       ['1.0', '0.0', '0.0', '0.0', '135426.92', '0.0'],\n",
       "       ['0.0', '0.0', '1.0', '542.05', '51743.15', '0.0'],\n",
       "       ['1.0', '0.0', '0.0', '0.0', '116983.8', '45173.06']], dtype='<U9')"
      ]
     },
     "execution_count": 26,
     "metadata": {},
     "output_type": "execute_result"
    }
   ],
   "source": [
    "from sklearn.compose import ColumnTransformer\n",
    "columnTransformer = ColumnTransformer([('encoder', OneHotEncoder(), [3])],     remainder='passthrough')\n",
    "X=np.array(columnTransformer.fit_transform(X),dtype=np.str)\n",
    "X"
   ]
  },
  {
   "cell_type": "markdown",
   "metadata": {},
   "source": [
    "### Train test split"
   ]
  },
  {
   "cell_type": "code",
   "execution_count": 45,
   "metadata": {},
   "outputs": [],
   "source": [
    "# Splitting the dataset into the Training set and Test set\n",
    "\n",
    "from sklearn.model_selection import train_test_split\n",
    "X_train, X_test, y_train, y_test = train_test_split(X, y, test_size = 1/3, random_state = 0)"
   ]
  },
  {
   "cell_type": "markdown",
   "metadata": {},
   "source": [
    "### Fit the linear model"
   ]
  },
  {
   "cell_type": "code",
   "execution_count": 46,
   "metadata": {},
   "outputs": [
    {
     "data": {
      "text/plain": [
       "LinearRegression()"
      ]
     },
     "execution_count": 46,
     "metadata": {},
     "output_type": "execute_result"
    }
   ],
   "source": [
    "# Fitting the Multiple Linear Regression in the Training set\n",
    "\n",
    "from sklearn.linear_model import LinearRegression\n",
    "regressor = LinearRegression()\n",
    "regressor.fit(X_train, y_train)"
   ]
  },
  {
   "cell_type": "code",
   "execution_count": 47,
   "metadata": {},
   "outputs": [],
   "source": [
    "# Predicting the test set results\n",
    "y_pred = regressor.predict(X_test)"
   ]
  },
  {
   "cell_type": "code",
   "execution_count": 53,
   "metadata": {},
   "outputs": [
    {
     "name": "stdout",
     "output_type": "stream",
     "text": [
      "Estimated model slope, a: [ 8.01964279e-01  5.56054612e-02  3.00982810e-02 -1.40961768e+03]\n",
      "Estimated model intercept, b: (40214.43398341113,)\n"
     ]
    }
   ],
   "source": [
    "# Compute model slope and intercept\n",
    "\n",
    "a = regressor.coef_\n",
    "b = regressor.intercept_,\n",
    "print(\"Estimated model slope, a:\" , a)\n",
    "print(\"Estimated model intercept, b:\" , b)"
   ]
  },
  {
   "cell_type": "code",
   "execution_count": 48,
   "metadata": {},
   "outputs": [
    {
     "data": {
      "text/html": [
       "<div>\n",
       "<style scoped>\n",
       "    .dataframe tbody tr th:only-of-type {\n",
       "        vertical-align: middle;\n",
       "    }\n",
       "\n",
       "    .dataframe tbody tr th {\n",
       "        vertical-align: top;\n",
       "    }\n",
       "\n",
       "    .dataframe thead th {\n",
       "        text-align: right;\n",
       "    }\n",
       "</style>\n",
       "<table border=\"1\" class=\"dataframe\">\n",
       "  <thead>\n",
       "    <tr style=\"text-align: right;\">\n",
       "      <th></th>\n",
       "      <th>Real Values</th>\n",
       "      <th>Predicted Values</th>\n",
       "    </tr>\n",
       "  </thead>\n",
       "  <tbody>\n",
       "    <tr>\n",
       "      <th>0</th>\n",
       "      <td>103282.38</td>\n",
       "      <td>106897.54</td>\n",
       "    </tr>\n",
       "    <tr>\n",
       "      <th>1</th>\n",
       "      <td>144259.40</td>\n",
       "      <td>132161.07</td>\n",
       "    </tr>\n",
       "    <tr>\n",
       "      <th>2</th>\n",
       "      <td>146121.95</td>\n",
       "      <td>134992.07</td>\n",
       "    </tr>\n",
       "    <tr>\n",
       "      <th>3</th>\n",
       "      <td>77798.83</td>\n",
       "      <td>72244.23</td>\n",
       "    </tr>\n",
       "    <tr>\n",
       "      <th>4</th>\n",
       "      <td>191050.39</td>\n",
       "      <td>181171.42</td>\n",
       "    </tr>\n",
       "    <tr>\n",
       "      <th>5</th>\n",
       "      <td>105008.31</td>\n",
       "      <td>115782.35</td>\n",
       "    </tr>\n",
       "    <tr>\n",
       "      <th>6</th>\n",
       "      <td>81229.06</td>\n",
       "      <td>65681.07</td>\n",
       "    </tr>\n",
       "    <tr>\n",
       "      <th>7</th>\n",
       "      <td>97483.56</td>\n",
       "      <td>100389.90</td>\n",
       "    </tr>\n",
       "    <tr>\n",
       "      <th>8</th>\n",
       "      <td>110352.25</td>\n",
       "      <td>115512.21</td>\n",
       "    </tr>\n",
       "    <tr>\n",
       "      <th>9</th>\n",
       "      <td>166187.94</td>\n",
       "      <td>170282.37</td>\n",
       "    </tr>\n",
       "    <tr>\n",
       "      <th>10</th>\n",
       "      <td>96778.92</td>\n",
       "      <td>96909.30</td>\n",
       "    </tr>\n",
       "    <tr>\n",
       "      <th>11</th>\n",
       "      <td>96479.51</td>\n",
       "      <td>88030.86</td>\n",
       "    </tr>\n",
       "    <tr>\n",
       "      <th>12</th>\n",
       "      <td>105733.54</td>\n",
       "      <td>112674.92</td>\n",
       "    </tr>\n",
       "    <tr>\n",
       "      <th>13</th>\n",
       "      <td>96712.80</td>\n",
       "      <td>91150.16</td>\n",
       "    </tr>\n",
       "    <tr>\n",
       "      <th>14</th>\n",
       "      <td>124266.90</td>\n",
       "      <td>129019.35</td>\n",
       "    </tr>\n",
       "    <tr>\n",
       "      <th>15</th>\n",
       "      <td>155752.60</td>\n",
       "      <td>162549.28</td>\n",
       "    </tr>\n",
       "    <tr>\n",
       "      <th>16</th>\n",
       "      <td>132602.65</td>\n",
       "      <td>152830.12</td>\n",
       "    </tr>\n",
       "  </tbody>\n",
       "</table>\n",
       "</div>"
      ],
      "text/plain": [
       "    Real Values  Predicted Values\n",
       "0     103282.38         106897.54\n",
       "1     144259.40         132161.07\n",
       "2     146121.95         134992.07\n",
       "3      77798.83          72244.23\n",
       "4     191050.39         181171.42\n",
       "5     105008.31         115782.35\n",
       "6      81229.06          65681.07\n",
       "7      97483.56         100389.90\n",
       "8     110352.25         115512.21\n",
       "9     166187.94         170282.37\n",
       "10     96778.92          96909.30\n",
       "11     96479.51          88030.86\n",
       "12    105733.54         112674.92\n",
       "13     96712.80          91150.16\n",
       "14    124266.90         129019.35\n",
       "15    155752.60         162549.28\n",
       "16    132602.65         152830.12"
      ]
     },
     "execution_count": 48,
     "metadata": {},
     "output_type": "execute_result"
    }
   ],
   "source": [
    "df = pd.DataFrame({'Real Values':y_test, 'Predicted Values':y_pred.round(2)})\n",
    "df"
   ]
  },
  {
   "cell_type": "code",
   "execution_count": 52,
   "metadata": {},
   "outputs": [
    {
     "data": {
      "text/plain": [
       "<matplotlib.legend.Legend at 0x1c71da294e0>"
      ]
     },
     "execution_count": 52,
     "metadata": {},
     "output_type": "execute_result"
    },
    {
     "data": {
      "image/png": "[encoded data removed]",
      "text/plain": [
       "<Figure size 576x576 with 1 Axes>"
      ]
     },
     "metadata": {
      "needs_background": "light"
     },
     "output_type": "display_data"
    }
   ],
   "source": [
    "plt.figure(figsize=(8,8))\n",
    "\n",
    "plt.plot(df['Real Values'], label='Actual')\n",
    "plt.plot(df['Predicted Values'],label='Predicted Values')\n",
    "plt.ylabel('Profit')\n",
    "plt.legend()"
   ]
  },
  {
   "cell_type": "markdown",
   "metadata": {},
   "source": [
    "### Metrics for model performance"
   ]
  },
  {
   "cell_type": "code",
   "execution_count": 58,
   "metadata": {},
   "outputs": [
    {
     "name": "stdout",
     "output_type": "stream",
     "text": [
      "Mean absolute error: 7859.96\n",
      "Residual sum of squares (MSE): 85286500.85\n",
      "R2-score: 0.91\n"
     ]
    }
   ],
   "source": [
    "from sklearn.metrics import r2_score\n",
    "print('Mean absolute error: %.2f' % np.mean(np.absolute(y_test - y_pred)))\n",
    "print('Residual sum of squares (MSE): %.2f' % np.mean((y_test - y_pred) **2 ))\n",
    "print('R2-score: %.2f' % r2_score(y_test, y_pred))"
   ]
  },
  {
   "cell_type": "markdown",
   "metadata": {},
   "source": [
    "### Checking for Overfitting and Underfitting"
   ]
  },
  {
   "cell_type": "code",
   "execution_count": 57,
   "metadata": {},
   "outputs": [
    {
     "name": "stdout",
     "output_type": "stream",
     "text": [
      "Training set score: 0.9557\n",
      "Test set score: 0.9101\n"
     ]
    }
   ],
   "source": [
    "# Checking for Overfitting or Underfitting the data\n",
    "\n",
    "print(\"Training set score: {:.4f}\".format(regressor.score(X_train,y_train)))\n",
    "\n",
    "print(\"Test set score: {:.4f}\".format(regressor.score(X_test,y_test)))"
   ]
  },
  {
   "cell_type": "markdown",
   "metadata": {},
   "source": [
    "### Exercise\n",
    "    1. What is difference between simple linear and multiple linear regressions?\n",
    "    2. True-False: Linear Regression is mainly used for Regression. -TRUE\n",
    "    3. Print RMSE value"
   ]
  },
  {
   "cell_type": "code",
   "execution_count": null,
   "metadata": {},
   "outputs": [],
   "source": []
  }
 ],
 "metadata": {
  "kernelspec": {
   "display_name": "Python 3",
   "language": "python",
   "name": "python3"
  },
  "language_info": {
   "codemirror_mode": {
    "name": "ipython",
    "version": 3
   },
   "file_extension": ".py",
   "mimetype": "text/x-python",
   "name": "python",
   "nbconvert_exporter": "python",
   "pygments_lexer": "ipython3",
   "version": "3.6.10"
  }
 },
 "nbformat": 4,
 "nbformat_minor": 4
}
